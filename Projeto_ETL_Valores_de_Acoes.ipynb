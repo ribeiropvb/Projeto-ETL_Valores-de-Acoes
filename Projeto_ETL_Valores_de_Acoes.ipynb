{
  "nbformat": 4,
  "nbformat_minor": 0,
  "metadata": {
    "colab": {
      "provenance": [],
      "authorship_tag": "ABX9TyMe5WsGMr0W5pKzNGiZ7e1H",
      "include_colab_link": true
    },
    "kernelspec": {
      "name": "python3",
      "display_name": "Python 3"
    },
    "language_info": {
      "name": "python"
    }
  },
  "cells": [
    {
      "cell_type": "markdown",
      "metadata": {
        "id": "view-in-github",
        "colab_type": "text"
      },
      "source": [
        "<a href=\"https://colab.research.google.com/github/ribeiropvb/Projeto-ETL_Valores-de-Acoes/blob/main/Projeto_ETL_Valores_de_Acoes.ipynb\" target=\"_parent\"><img src=\"https://colab.research.google.com/assets/colab-badge.svg\" alt=\"Open In Colab\"/></a>"
      ]
    },
    {
      "cell_type": "markdown",
      "source": [
        "A API de Cotação da Bolsa é uma aplicação em Python que fornece informações atualizadas sobre os valores das ações e outros instrumentos financeiros negociados na bolsa de valores. Esta API permite que os usuários obtenham rapidamente cotações em tempo real.\n",
        "\n",
        "Com essa API, os investidores e desenvolvedores têm acesso fácil e confiável a informações cruciais para tomar decisões informadas no mercado de capitais."
      ],
      "metadata": {
        "id": "9KzJgiWUcMTX"
      }
    },
    {
      "cell_type": "markdown",
      "source": [
        "# Extract"
      ],
      "metadata": {
        "id": "VYC9u1igcJA7"
      }
    },
    {
      "cell_type": "code",
      "execution_count": 14,
      "metadata": {
        "colab": {
          "base_uri": "https://localhost:8080/"
        },
        "id": "6ic06AP3asKo",
        "outputId": "639ee9c3-a09b-44c6-ea82-580ab5a5ea25"
      },
      "outputs": [
        {
          "output_type": "stream",
          "name": "stdout",
          "text": [
            "       id\n",
            "0   PETR4\n",
            "1  BCSA34\n",
            "2   VALE3\n"
          ]
        }
      ],
      "source": [
        "import pandas as pd\n",
        "\n",
        "data = {'id': ['PETR4', 'BCSA34', 'VALE3']}\n",
        "acoes_ids = pd.DataFrame(data)\n",
        "print(acoes_ids)"
      ]
    },
    {
      "cell_type": "code",
      "source": [
        "import requests\n",
        "import json\n",
        "\n",
        "def get_acoes(id):\n",
        "  response = requests.get(f'https://brapi.dev/api/quote/{id}?range=1d&interval=1d&fundamental=false&dividends=false')\n",
        "  return response.json()# if response.status_code == 200 else None\n",
        "\n",
        "acoes = [get_acoes(id) for id in acoes_ids.id]"
      ],
      "metadata": {
        "id": "4nmpil7KdBZ5"
      },
      "execution_count": 26,
      "outputs": []
    },
    {
      "cell_type": "markdown",
      "source": [
        "#Transform"
      ],
      "metadata": {
        "id": "Q-VBmDSae2vA"
      }
    },
    {
      "cell_type": "code",
      "source": [
        "# Função para obter \"twoHundredDayAverage\" de um JSON\n",
        "def get_value(json_data):\n",
        "    try:\n",
        "        result = json_data[\"results\"][0][\"twoHundredDayAverage\"]\n",
        "        return result\n",
        "    except KeyError:\n",
        "        return None  # Retorne None se a chave não existir no JSON"
      ],
      "metadata": {
        "id": "2fibkQ3Ve5Tx"
      },
      "execution_count": 24,
      "outputs": []
    },
    {
      "cell_type": "code",
      "source": [
        "two_hundred_day_averages = [get_value(json_data) for json_data in acoes]\n",
        "\n",
        "# Imprimir os resultados\n",
        "for i, average in enumerate(two_hundred_day_averages):\n",
        "    print(f\"Item {i+1}: twoHundredDayAverage = {average}\")"
      ],
      "metadata": {
        "colab": {
          "base_uri": "https://localhost:8080/"
        },
        "id": "evJC-Iiife_1",
        "outputId": "ecf52419-8c5e-4083-fd9b-4364275c2d48"
      },
      "execution_count": 25,
      "outputs": [
        {
          "output_type": "stream",
          "name": "stdout",
          "text": [
            "Item 1: twoHundredDayAverage = 27.1349\n",
            "Item 2: twoHundredDayAverage = 17.91445\n",
            "Item 3: twoHundredDayAverage = 76.37605\n"
          ]
        }
      ]
    },
    {
      "cell_type": "code",
      "source": [
        "[get_value(json_data) for json_data in acoes]"
      ],
      "metadata": {
        "colab": {
          "base_uri": "https://localhost:8080/"
        },
        "id": "6_8IOkD4fkM8",
        "outputId": "5be9ae71-7fe3-42ef-8cfe-f45b97915199"
      },
      "execution_count": 27,
      "outputs": [
        {
          "output_type": "execute_result",
          "data": {
            "text/plain": [
              "[27.1349, 17.91445, 76.37605]"
            ]
          },
          "metadata": {},
          "execution_count": 27
        }
      ]
    }
  ]
}